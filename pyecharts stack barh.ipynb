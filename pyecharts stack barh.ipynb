{
 "cells": [
  {
   "cell_type": "code",
   "execution_count": 103,
   "metadata": {},
   "outputs": [
    {
     "data": {
      "text/plain": [
       "'C:\\\\Users\\\\hali\\\\Desktop\\\\barh\\\\barh.html'"
      ]
     },
     "execution_count": 103,
     "metadata": {},
     "output_type": "execute_result"
    }
   ],
   "source": [
    "from pyecharts import options as opts\n",
    "from pyecharts.charts import Bar\n",
    "\n",
    "x,y1,y2,y3 = [\"31-35岁\",\"26-30岁\",\"21-25岁\",],[10,30,40,],[20,40,50,],[70,30,10]\n",
    "\n",
    "c = (\n",
    "    Bar(init_opts=opts.InitOpts(\n",
    "    width = \"900px\",\n",
    "    height = \"300px\", ))\n",
    "        \n",
    "    .add_xaxis(x,)\n",
    "    .add_yaxis(\"上海户口\", y1,gap=\"-100%\",stack=\"stack1\",color =\"darkgray\")\n",
    "    .add_yaxis(\"非上海户口\", y2,gap=\"-100%\",stack=\"stack1\",color =\"gray\")\n",
    "    .add_yaxis(\"信息不详\", y3,gap=\"-100%\",stack=\"stack1\",color =\"skyblue\")\n",
    "    .reversal_axis()\n",
    "    .set_series_opts(label_opts=opts.LabelOpts(formatter=\"{c}%\",position=\"insideRight\",))\n",
    "    .set_global_opts(title_opts=opts.TitleOpts(title=\"上海男用户户籍分布\"),\n",
    "                     xaxis_opts = opts.AxisOpts(\n",
    "                         axislabel_opts=opts.LabelOpts(formatter = \"{value}%\")\n",
    ")))\n",
    "c.render(\"barh.html\")"
   ]
  },
  {
   "cell_type": "code",
   "execution_count": 113,
   "metadata": {},
   "outputs": [
    {
     "data": {
      "text/plain": [
       "'C:\\\\Users\\\\hali\\\\Desktop\\\\barh\\\\barh.html'"
      ]
     },
     "execution_count": 113,
     "metadata": {},
     "output_type": "execute_result"
    }
   ],
   "source": [
    "from pyecharts import options as opts\n",
    "from pyecharts.charts import Bar\n",
    "\n",
    "x,y1,y2,y3 = [\"31-35岁\",\"26-30岁\",\"21-25岁\",],[10,30,40,],[20,40,50,],[70,30,10]\n",
    "\n",
    "c = (\n",
    "    Bar(init_opts=opts.InitOpts(\n",
    "    width = \"900px\",\n",
    "    height = \"300px\", ))\n",
    "        \n",
    "    .add_xaxis(x,)\n",
    "    .add_yaxis(\"上海户口\", y1,gap=\"-100%\",stack=\"stack1\",color =\"darkgray\")\n",
    "    .add_yaxis(\"非上海户口\", y2,gap=\"-100%\",stack=\"stack1\",color =\"gray\")\n",
    "    .add_yaxis(\"信息不详\", y3,gap=\"-100%\",stack=\"stack1\",color =\"deeppink\")\n",
    "    .reversal_axis()\n",
    "    .set_series_opts(label_opts=opts.LabelOpts(formatter=\"{c}%\",position=\"insideRight\",))\n",
    "    .set_global_opts(title_opts=opts.TitleOpts(title=\"上海女用户户籍分布\"),\n",
    "                     xaxis_opts = opts.AxisOpts(\n",
    "                         axislabel_opts=opts.LabelOpts(formatter = \"{value}%\")\n",
    ")))\n",
    "c.render(\"barh.html\")"
   ]
  },
  {
   "cell_type": "code",
   "execution_count": null,
   "metadata": {},
   "outputs": [],
   "source": []
  }
 ],
 "metadata": {
  "kernelspec": {
   "display_name": "Python 3",
   "language": "python",
   "name": "python3"
  },
  "language_info": {
   "codemirror_mode": {
    "name": "ipython",
    "version": 3
   },
   "file_extension": ".py",
   "mimetype": "text/x-python",
   "name": "python",
   "nbconvert_exporter": "python",
   "pygments_lexer": "ipython3",
   "version": "3.7.3"
  }
 },
 "nbformat": 4,
 "nbformat_minor": 2
}
